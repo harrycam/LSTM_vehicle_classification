{
 "cells": [
  {
   "cell_type": "code",
   "execution_count": null,
   "metadata": {
    "scrolled": true
   },
   "outputs": [],
   "source": [
    "steps = 300\n",
    "overlap = 100\n",
    "\n",
    "results_iter = {}\n",
    "\n",
    "optm = Adam(lr=1e-3)\n",
    "\n",
    "epochs=50\n",
    "batch_size=128\n",
    "\n",
    "for steps in range(350, 800, 50):\n",
    "    for overlap in range(25,175,25):\n",
    "        \n",
    "        test_train_x = []\n",
    "        test_train_y = []\n",
    "        \n",
    "        for key in data:\n",
    "            for drive in data[key]:\n",
    "                x_windows, y_windows = split_sequences(data[key][drive].values, steps, key, overlap)\n",
    "                test_train_x.extend(x_windows)\n",
    "                test_train_y.extend(y_windows)\n",
    "                \n",
    "        if steps == 300:\n",
    "            continue\n",
    "        \n",
    "        y = array(test_train_y)\n",
    "        x = array(test_train_x)\n",
    "        \n",
    "        scaler = MinMaxScaler(feature_range=(0, 1))\n",
    "\n",
    "        for data_x in x:\n",
    "            scaler.partial_fit(data_x)\n",
    "\n",
    "        scaled_x = []\n",
    "        # Second pass\n",
    "        for data_x in x:\n",
    "            scaled_x.append(list(map(list, zip(*scaler.transform(data_x)))))\n",
    "            \n",
    "        x_train, x_test, y_train_numbers, y_test_numbers = train_test_split(array(scaled_x), array(y), test_size=0.33, random_state=42)\n",
    "        print(steps)\n",
    "        print(overlap)\n",
    "        print(x_train.shape)\n",
    "        \n",
    "        model = generate_model()\n",
    "        model.compile(optimizer='adam', loss='categorical_crossentropy', metrics=['accuracy'])\n",
    "        \n",
    "        classes = np.unique(y_train_numbers)\n",
    "        le = LabelEncoder()\n",
    "        y_ind = le.fit_transform(y_train_numbers.ravel())\n",
    "        recip_freq = len(y_train_numbers) / (len(le.classes_) * np.bincount(y_ind).astype(np.float64))\n",
    "        class_weight = recip_freq[le.transform(classes)]\n",
    "        \n",
    "        y_train = to_categorical(y_train_numbers, len(np.unique(y_train_numbers)))\n",
    "        y_test = to_categorical(y_test_numbers, len(np.unique(y_test_numbers)))\n",
    "\n",
    "        model.fit(x_train, y_train, batch_size=batch_size, epochs=epochs,\n",
    "                      class_weight=class_weight, verbose=2, validation_data=(x_test, y_test))\n",
    "        \n",
    "        y_pred = model.predict(x_test, batch_size=64, verbose=1)\n",
    "        y_pred_bool = np.argmax(y_pred, axis=1)\n",
    "        y_pred = to_categorical(y_pred_bool, len(np.unique(y_pred_bool)))\n",
    "        print(classification_report(y_test, y_pred))\n",
    "        \n",
    "        results_iter[str(steps)+'_'+str(overlap)] = classification_report(y_test, y_pred)"
   ]
  }
 ],
 "metadata": {
  "kernelspec": {
   "display_name": "Python 3",
   "language": "python",
   "name": "python3"
  },
  "language_info": {
   "codemirror_mode": {
    "name": "ipython",
    "version": 3
   },
   "file_extension": ".py",
   "mimetype": "text/x-python",
   "name": "python",
   "nbconvert_exporter": "python",
   "pygments_lexer": "ipython3",
   "version": "3.7.7"
  }
 },
 "nbformat": 4,
 "nbformat_minor": 2
}
