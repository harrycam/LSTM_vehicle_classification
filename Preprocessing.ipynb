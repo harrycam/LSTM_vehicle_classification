{
 "cells": [
  {
   "cell_type": "code",
   "execution_count": 2,
   "metadata": {},
   "outputs": [],
   "source": [
    "#!/usr/bin/python\n",
    "path = \"D:/Users/hjcam/Documents/Python Scripts/ECTE355 Project/\"\n",
    "os.chdir( path )"
   ]
  },
  {
   "cell_type": "code",
   "execution_count": 3,
   "metadata": {
    "collapsed": true
   },
   "outputs": [
    {
     "name": "stdout",
     "output_type": "stream",
     "text": [
      "Aggressive\n",
      "Drowsy\n",
      "Normal\n"
     ]
    }
   ],
   "source": [
    "data = {\"Normal\":{},\"Aggressive\":{},\"Drowsy\":{}}\n",
    "\n",
    "for behaviour in os.listdir('Dataset'):\n",
    "    print(behaviour)\n",
    "    for drive in os.listdir('Dataset/'+behaviour):\n",
    "        dataset = []\n",
    "        acc = np.loadtxt('Dataset/' + behaviour + '/' + drive + '/RAW_ACCELEROMETERS.txt')\n",
    "        gps = np.loadtxt('Dataset/' + behaviour + '/' + drive + '/RAW_GPS.txt')\n",
    "        lane = np.loadtxt('Dataset/' + behaviour + '/' + drive + '/PROC_LANE_DETECTION.txt')\n",
    "        veh = np.loadtxt('Dataset/' + behaviour + '/' + drive + '/PROC_VEHICLE_DETECTION.txt')\n",
    "        \n",
    "        acc_reduced = acc[:,[0,5,6,7,8,9,10]] #time, X KF,Y KF, Z KF, Roll, Pitch, Yaw\n",
    "        gps_reduced = gps[:,[0,1]] #time, speed\n",
    "        lane_reduced = lane[:,[0,1]] #time, lane center\n",
    "        veh_reduced = veh[:,[0,1,2]] #time, dist. to veh, time to vehicle\n",
    "        \n",
    "        acc_data = pd.DataFrame(acc_reduced, columns = ['Time','X KF','Y KF', 'Z KF', 'Roll', 'Pitch', 'Yaw'])\n",
    "        acc_data.set_index('Time',inplace = True)\n",
    "        gps_data = pd.DataFrame(gps_reduced, columns = ['Time','Speed'])\n",
    "        gps_data.set_index('Time',inplace = True)\n",
    "        lane_data = pd.DataFrame(lane_reduced, columns = ['Time','Lane_X'])\n",
    "        lane_data.set_index('Time',inplace = True)\n",
    "        veh_data = pd.DataFrame(veh_reduced, columns = ['Time','Veh_Dist','Veh_Time'])\n",
    "        veh_data.set_index('Time',inplace = True)\n",
    "        \n",
    "        acc_data = acc_data.groupby(acc_data.index).first()\n",
    "        gps_data = gps_data.groupby(gps_data.index).first()\n",
    "        lane_data = lane_data.groupby(lane_data.index).first()\n",
    "        veh_data = veh_data.groupby(veh_data.index).first()\n",
    "        \n",
    "        combined_data = pd.concat([acc_data, gps_data], axis=1, sort=False)\n",
    "        \n",
    "        combined_data['Speed'].interpolate(method = 'index',inplace = True)\n",
    "        #combined_data['Lane_X'].interpolate(method = 'index',inplace = True)\n",
    "        #combined_data['Veh_Dist'] = combined_data['Veh_Dist'].fillna(method='ffill')\n",
    "        #combined_data['Veh_Time'] = combined_data['Veh_Time'].fillna(method='ffill')\n",
    "        combined_data.dropna(inplace = True)\n",
    "        combined_data = combined_data[['X KF','Y KF', 'Z KF', 'Roll', 'Pitch', 'Yaw','Speed']]#],'Lane_X','Veh_Dist','Veh_Time']]\n",
    "        \n",
    "        data[behaviour].update({drive:combined_data})"
   ]
  },
  {
   "cell_type": "markdown",
   "metadata": {},
   "source": [
    "# Creating the overall formatted dataset"
   ]
  },
  {
   "cell_type": "code",
   "execution_count": 4,
   "metadata": {},
   "outputs": [],
   "source": [
    "def split_sequences(sequences, n_steps, behaviour, n_overlap):\n",
    "    X , y = list() , list()\n",
    "    #for i in range(len(sequences)):\n",
    "    for i in np.arange(0,len(sequences),n_overlap,dtype = np.int16):\n",
    "        # find the end of this pattern\n",
    "        end_ix = i + n_steps\n",
    "        # check if we are beyond the dataset\n",
    "        if end_ix > len(sequences):\n",
    "            break\n",
    "        # gather input and output parts of the pattern\n",
    "        seq_x = sequences[i:end_ix, :]\n",
    "        #X.append(list(map(list, zip(*seq_x))))\n",
    "        X.append(seq_x)\n",
    "        if behaviour == 'Normal':\n",
    "            y.append([0])\n",
    "        elif behaviour == 'Drowsy':\n",
    "            y.append([1])\n",
    "        elif behaviour == 'Aggressive':\n",
    "            y.append([2])\n",
    "            \n",
    "    return X , y"
   ]
  }
 ],
 "metadata": {
  "kernelspec": {
   "display_name": "Python 3",
   "language": "python",
   "name": "python3"
  },
  "language_info": {
   "codemirror_mode": {
    "name": "ipython",
    "version": 3
   },
   "file_extension": ".py",
   "mimetype": "text/x-python",
   "name": "python",
   "nbconvert_exporter": "python",
   "pygments_lexer": "ipython3",
   "version": "3.7.7"
  }
 },
 "nbformat": 4,
 "nbformat_minor": 2
}
